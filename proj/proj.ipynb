{
 "cells": [
  {
   "cell_type": "markdown",
   "metadata": {},
   "source": [
    "![PNS](http://caillau.perso.math.cnrs.fr/logo-pns.png)\n",
    "## MAM3 - MI2\n",
    "# Projet\n",
    "\n",
    "[![Binder](https://static.mybinder.org/badge_logo.svg)](https://mybinder.org/v2/gh/jbcaillau/mi2/master?urlpath=lab/tree/proj/proj.ipynb)\n",
    "\n",
    "[![Open In Colab](https://colab.research.google.com/assets/colab-badge.svg)](https://colab.research.google.com/github/jbcaillau/mi2/blob/master/proj/proj.ipynb)"
   ]
  },
  {
   "cell_type": "markdown",
   "metadata": {},
   "source": [
    "## Exercice 1A\n",
    "Soit $f : \\mathbf{R}^n \\to \\mathbf{R}$ définie par $f(x)=\\|x\\|^2 \\cos(\\|x\\|^2+1)$.\n",
    "\n",
    "### 1.1\n",
    "Montrer que $f$ est deux fois dérivable puis donner son gradient et son hessien.\n",
    "\n",
    "### 1.2\n",
    "Vérifier vos calculs par différences finies pour $n=3$."
   ]
  },
  {
   "cell_type": "code",
   "execution_count": 1,
   "metadata": {},
   "outputs": [],
   "source": [
    "import numpy as np\n",
    "import matplotlib.pyplot as plt\n",
    "plt.ion()\n",
    "# à compléter..."
   ]
  },
  {
   "cell_type": "markdown",
   "metadata": {},
   "source": [
    "## Exercice 1B\n",
    "Soit $f : \\mathbf{R}^n \\to \\mathbf{R}$ définie par $f(x)=(\\|x\\|^2+1) \\sin(\\|x\\|^2)$.\n",
    "\n",
    "### 1.1\n",
    "Montrer que $f$ est deux fois dérivable puis donner son gradient et son hessien.\n",
    "\n",
    "### 1.2\n",
    "Vérifier vos calculs par différences finies pour $n=3$."
   ]
  },
  {
   "cell_type": "code",
   "execution_count": 2,
   "metadata": {},
   "outputs": [],
   "source": [
    "import numpy as np\n",
    "import matplotlib.pyplot as plt\n",
    "plt.ion()\n",
    "# à compléter..."
   ]
  },
  {
   "cell_type": "markdown",
   "metadata": {},
   "source": [
    "## Exercice 1C\n",
    "Soit $f : \\mathbf{R}^n \\to \\mathbf{R}$ définie par $f(x)=(\\|x\\|^2-1)\\ln(1+\\|x\\|^2)$.\n",
    "\n",
    "### 1.1\n",
    "Montrer que $f$ est deux fois dérivable puis donner son gradient et son hessien.\n",
    "\n",
    "### 1.2\n",
    "Vérifier vos calculs par différences finies pour $n=3$."
   ]
  },
  {
   "cell_type": "code",
   "execution_count": 3,
   "metadata": {},
   "outputs": [],
   "source": [
    "import numpy as np\n",
    "import matplotlib.pyplot as plt\n",
    "plt.ion()\n",
    "# à compléter..."
   ]
  },
  {
   "cell_type": "markdown",
   "metadata": {},
   "source": [
    "## Exercice 2\n",
    "On considère l'ensemble $E$ des fonctions bornées de $[0,1]$ dans $\\mathbf{R}$. On muni cet ensemble de la norme\n",
    "$$ \\|x\\|_\\infty = \\sup_{t \\in [0,1]} |x(t)|. $$\n",
    "\n",
    "### 2.1\n",
    "Donner un exemple de fonction dans $E$ telle que, pour tout $t \\in [0,1]$, $|x(t)| < \\|x\\|_\\infty$.\n",
    "\n",
    "### 2.2\n",
    "Montrer que $(E,\\|\\cdot\\|_\\infty)$ est un espace de Banach.\n",
    "\n",
    "### 2.3\n",
    "Montrer que l'ensemble $\\mathscr{C}^0([0,1],\\mathbf{R})$ des fonctions continues de $[0,1]$ dans $\\mathbf{R}$ est un sous-espace vectoriel fermé de $E$."
   ]
  },
  {
   "cell_type": "markdown",
   "metadata": {},
   "source": [
    "## Exercice 3A\n",
    "\n",
    "### 3.1\n",
    "Résoudre le problème d'optimisation\n",
    "$$ \\int_0^1 |t-\\sum_{k=0}^n a_k e^{kt}|^2\\,\\mathrm{d}t \\to \\min $$\n",
    "$$ (a_0,\\dots,a_n) \\in \\mathbf{R}^{n+1} $$\n",
    "pour $n=1$ et $n=2$.\n",
    "\n",
    "### 3.2\n",
    "Représenter graphiquement les approximations de la fonction $t \\to t$, $t \\in [0,1]$, ainsi obtenues."
   ]
  },
  {
   "cell_type": "code",
   "execution_count": 4,
   "metadata": {},
   "outputs": [],
   "source": [
    "# à compléter..."
   ]
  },
  {
   "cell_type": "markdown",
   "metadata": {},
   "source": [
    "## Exercice 3B\n",
    "\n",
    "### 3.1\n",
    "Résoudre le problème d'optimisation\n",
    "$$ \\int_0^1 |t-\\sum_{k=0}^n a_k \\cos(kt)|^2\\,\\mathrm{d}t \\to \\min $$\n",
    "$$ (a_0,\\dots,a_n) \\in \\mathbf{R}^{n+1} $$\n",
    "pour $n=1$ et $n=2$.\n",
    "\n",
    "### 3.2\n",
    "Représenter graphiquement les approximations de la fonction $t \\to t$, $t \\in [0,1]$, ainsi obtenues."
   ]
  },
  {
   "cell_type": "code",
   "execution_count": 5,
   "metadata": {},
   "outputs": [],
   "source": [
    "# à compléter..."
   ]
  },
  {
   "cell_type": "markdown",
   "metadata": {},
   "source": [
    "## Exercice 3C\n",
    "\n",
    "### 3.1\n",
    "Résoudre le problème d'optimisation\n",
    "$$ \\int_0^1 |t-\\sum_{k=0}^n a_k \\sin^k t|^2\\,\\mathrm{d}t \\to \\min $$\n",
    "$$ (a_0,\\dots,a_n) \\in \\mathbf{R}^{n+1} $$\n",
    "pour $n=1$ et $n=2$.\n",
    "\n",
    "### 3.2\n",
    "Représenter graphiquement les approximations de la fonction $t \\to t$, $t \\in [0,1]$, ainsi obtenues."
   ]
  },
  {
   "cell_type": "code",
   "execution_count": 6,
   "metadata": {},
   "outputs": [],
   "source": [
    "# à compléter..."
   ]
  },
  {
   "cell_type": "markdown",
   "metadata": {},
   "source": [
    "## Exercice 4A\n",
    "Soit $f \\in \\mathbf{R}^\\mathbf{R}$ définie par $f(t)=|t|$ sur $[-\\pi,\\pi[$ et prolongée par $2\\pi$-périodicité.\n",
    "\n",
    "### 4.1\n",
    "Donner l'expression de la série de Fourier de $f$\n",
    "sur la base hilbertienne des polynômes trigonométriques.\n",
    "\n",
    "### 4.2\n",
    "En déduire\n",
    "$$ \\sum_{p \\geq 0} \\frac{1}{(2p+1)^4}\\cdot $$\n",
    "\n",
    "### 4.3\n",
    "Peut-on utiliser le théorème de Dirichlet pour déduire l'expression d'une autre série ?\n",
    "\n",
    "### 4.4\n",
    "Vérifier numériquement la convergence de la série de la question 4.2."
   ]
  },
  {
   "cell_type": "code",
   "execution_count": 7,
   "metadata": {},
   "outputs": [],
   "source": [
    "# à compléter..."
   ]
  },
  {
   "cell_type": "markdown",
   "metadata": {},
   "source": [
    "## Exercice 4B\n",
    "Soit $f \\in \\mathbf{R}^\\mathbf{R}$ définie par $f(t)=t^3$ sur $[-\\pi,\\pi[$ et prolongée par $2\\pi$-périodicité.\n",
    "\n",
    "### 4.1\n",
    "Donner l'expression de la série de Fourier de $f$\n",
    "sur la base hilbertienne des polynômes trigonométriques.\n",
    "\n",
    "### 4.2\n",
    "En déduire $\\zeta(6)$.\n",
    "\n",
    "### 4.3\n",
    "Peut-on utiliser le théorème de Dirichlet pour déduire l'expression d'une autre série ?\n",
    "\n",
    "### 4.4\n",
    "Vérifier numériquement la convergence de la série de la question 4.2."
   ]
  },
  {
   "cell_type": "code",
   "execution_count": 8,
   "metadata": {},
   "outputs": [],
   "source": [
    "# à compléter..."
   ]
  },
  {
   "cell_type": "markdown",
   "metadata": {},
   "source": [
    "## Exercice 5A\n",
    "On cherche les distributions $S$ dans $\\mathscr{D}'(\\mathbf{R})$ qui vérifient\n",
    "$$ xS' = T_{\\sin} \\tag{1} $$\n",
    "où $T_{\\sin}$ désigne la distribution régulière associée à la fonction sinus.\n",
    "\n",
    "### 5.1\n",
    "Montrer que la fonction $f:\\mathbf{R} \\to \\mathbf{R}$ définie par $f(x)=(1/x)\\sin x$ si $x \\neq 0$, $f(0)=1$ est localement intégrable, et calculer $xT_f$.\n",
    "\n",
    "### 5.2\n",
    "En déduire que $S$ est solution de (1) si et seulement si\n",
    "$$ x(S-T_F)'=0 $$\n",
    "où $F$ est une fonction que l'on précisera.\n",
    "\n",
    "### 5.3\n",
    "En déduire que $S$ est solution de (1) si et seulement s'il existe une constante $c \\in \\mathbf{R}$ telle que\n",
    "$$ (S-T_F-cT_H)'=0 $$\n",
    "où $H$ est la fonction de Heaviside.\n",
    "\n",
    "### 5.4\n",
    "En déduire finalement l'ensemble des solutions de (1)."
   ]
  },
  {
   "cell_type": "markdown",
   "metadata": {},
   "source": [
    "## Exercice 5B\n",
    "On cherche les distributions $S$ dans $\\mathscr{D}'(\\mathbf{R})$ qui vérifient\n",
    "$$ xS' = T_{1} \\tag{1} $$\n",
    "où $T_{1}$ désigne la distribution régulière associée à la fonction constante égale à $1$.\n",
    "\n",
    "### 5.1\n",
    "Montrer que $S$ est solution de (1) si et seulement si\n",
    "$$ x(S-T_{\\ln|x|})'=0. $$\n",
    "\n",
    soit $\varphi\in\mathcal{D}(\mathbf{R})$, et $Tf: {D}(\mathbf{R})->\mathbf{R}$,
1/ on a pour tout x dans $\mathbf{R}$,
$x(S-Tln(|x|))'$ = 0 <=> $xS' = xTln(|x|)'$,
or $Tf(\varphi(x))$=,
    "### 5.2\n",
    "En déduire que $S$ est solution de (1) si et seulement s'il existe une constante $c \\in \\mathbf{R}$ telle que\n",
    "$$ (S-T_{\\ln|x|}-cT_H)'=0 $$\n",
    "où $H$ est la fonction de Heaviside.\n",
    "\n",
    "### 5.3\n",
    "En déduire finalement l'ensemble des solutions de (1).\n",
    "\n",
    "### 5.4\n",
    "Quelle est la solution maximale (de classe $\\mathscr{C}^1$) de l'équation différentielle ordinaire\n",
    "$$ y'(x)=1/x, \\quad y(1)=0\\ ? $$"
   ]
  },
  {
   "cell_type": "markdown",
   "metadata": {},
   "source": [
    "## Exercice 6A\n",
    "On considère le problème aux limites suivant : trouver $u \\in \\mathscr{C}^2([0,1])$ telle que\n",
    "$$ -u''(x)+u(x) = f(x),\\quad x \\in ]0,1[, $$\n",
    "$$ u(0)=0,\\quad u'(1)=0, $$\n",
    "où $f \\in \\mathscr{C}([0,1])$ est une fonction fixée.\n",
    "                                        \n",
    "## 6.1\n",
    "Proposer une formulation variationnelle de ce problème, puis le résoudre.\n",
    "\n",
    "## 6.2\n",
    "Pour $u : [0,1] \\to \\mathbf{R}$ suffisamment régulière, justifier l'approximation\n",
    "$$ u''(x_i) \\simeq \\frac{u(x_{i+1})-2u(x_i)+u(x_{i-1})}{h^2},\\quad i=1,\\dots,N-1, $$\n",
    "où $x_i=i\\cdot h$ avec $i=0,...,N$, et $h=1/N$ ($N$ étant un nombre de pas discrétisation fixé).\n",
    "En déduire un schéma de résolution numérique du problème précédent que l'on testera pour $f(x)=\\sin(4x)$."
   ]
  },
  {
   "cell_type": "code",
   "execution_count": 9,
   "metadata": {},
   "outputs": [],
   "source": [
    "# à compléter..."
   ]
  },
  {
   "cell_type": "markdown",
   "metadata": {},
   "source": [
    "## Exercice 6B\n",
    "On considère le problème aux limites suivant : trouver $u \\in \\mathscr{C}^2([0,1])$ telle que\n",
    "$$ -u''(x)+u(x) = f(x),\\quad x \\in ]0,1[, $$\n",
    "$$ u'(0)=0,\\quad u(1)=0, $$\n",
    "où $f \\in \\mathscr{C}([0,1])$ est une fonction fixée.\n",
    "                                        \n",
    "## 6.1\n",
    "Proposer une formulation variationnelle de ce problème, puis le résoudre.\n",
    "\n",
    "## 6.2\n",
    "Pour $u : [0,1] \\to \\mathbf{R}$ suffisamment régulière, justifier l'approximation\n",
    "$$ u''(x_i) \\simeq \\frac{u(x_{i+1})-2u(x_i)+u(x_{i-1})}{h^2},\\quad i=1,\\dots,N-1, $$\n",
    "où $x_i=i\\cdot h$ avec $i=0,...,N$, et $h=1/N$ ($N$ étant un nombre de pas discrétisation fixé).\n",
    "En déduire un schéma de résolution numérique du problème précédent que l'on testera pour $f(x)=x(x-1/4)(x-1/2)$."
   ]
  },
  {
   "cell_type": "code",
   "execution_count": 10,
   "metadata": {},
   "outputs": [],
   "source": [
    "# à compléter..."
   ]
  }
 ],
 "metadata": {
  "kernelspec": {
   "display_name": "Python 3",
   "language": "python",
   "name": "python3"
  },
  "language_info": {
   "codemirror_mode": {
    "name": "ipython",
    "version": 3
   },
   "file_extension": ".py",
   "mimetype": "text/x-python",
   "name": "python",
   "nbconvert_exporter": "python",
   "pygments_lexer": "ipython3",
   "version": "3.7.6"
  }
 },
 "nbformat": 4,
 "nbformat_minor": 4
}
